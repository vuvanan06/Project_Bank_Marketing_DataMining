{
 "cells": [
  {
   "cell_type": "markdown",
   "id": "17766f05",
   "metadata": {},
   "source": [
    "<center>\n",
    "    \n",
    "<h2> KHAI PHÁ DỮ LIỆU (DATA MINING) </h2>\n",
    "<h3 style='color:red'>Các bước thực hiện Khai phá dữ liệu</h3>\n",
    "    \n",
    "</center>\n",
    "\n",
    "---\n",
    "<img src='pic/steps.png' width='600px'>\n",
    "\n",
    "\n",
    "## Bước 1: Xác định mục tiêu và thu thập dữ liệu (Collection):\n",
    "\n",
    "Một ngân hàng đa quốc gia ở Bồ Đào Nha triển khai thực hiện chiến dịch Marketing tới tất cả các khách hàng của mình trong một thành phố với mục đích là mời khách hàng mở sổ tiết kiệm có kỳ hạn. Các nhân viên của ngân hàng thực hiện việc marketing với nhiều hình thức khách nhau tới các khách hàng này. Chiến dịch được thực hiện xuyên suốt trong 12 tháng của năm 2023 với khoảng 45000 khách hàng.\n",
    "\n",
    "<img src='Pic/MarketingBank.jpeg' width=500px>\n",
    "\n",
    "Kết thúc chiến dịch cần Đánh giá hiệu quả của chiến dịch Marketing mang lại. Dựa trên dữ liệu để Phân tích giúp cải thiện hiệu quả của các chiến dịch Marketing tại các thành phố khác\n",
    "\n",
    "**MÔ TẢ TẬP DỮ LIỆU:**\n",
    "Tập dữ liệu bao gồm 45211 bản ghi tương ứng với 45211 khách hàng lưu trữ thông tin về chiến dịch marketing mở sổ tiết kiệm có kỳ hạn. Mỗi một bản ghi tương ứng với một khách hàng mà ngân hàng đã liên lạc để tiếp thị dịch vụ, bao gồm 10 thông tin như sau:\n",
    "* **Phần A.Dữ liệu khách hàng:**\n",
    "1. age: Tuổi của khách hàng (int)\n",
    "2. job: Nghề nghiệp (\"admin.\",\"unknown\",\"unemployed\",\"management\",\"housemaid\",\"entrepreneur\",\"student\", \"blue-collar\",\"self-employed\",\"retired\",\"technician\",\"services\")\n",
    "3. marital: Tình trạng hôn nhân (\"married\",\"divorced\",\"single\")\n",
    "4. education: Trình độ học vấn (\"unknown\",\"secondary\",\"primary\",\"tertiary\")\n",
    "5. balance: Số dữ trong tài khoản(đơn vị: Euro)\n",
    "6. loan: Hiện có vay liên tiêu dùng cá nhân nào hay không (yes/no)\n",
    "\n",
    "* **Phần B.Thông tin liên quan tới chiến dịch tiếp thị:**\n",
    "7. contact: loại kết nối liên lạc tới khách hàng (\"other\",\"telephone\",\"cellular\")\n",
    "8. month: Tháng liên lạc marketing cuối cùng trong năm (jan, feb, mar...nov,dec)\n",
    "9. campaign: Số lần liên lạc với khách hàng này trong một chiến dịch\n",
    "10. deposit: Kết quả của đợt marketing này là khách hàng có đăng ký tiền gửi tiết kiệm hay không (yes/no)\n",
    "\n",
    "\n",
    "---\n",
    "*COPYRIGHT: DangVanNam - FIT.HUMG - BKACAD@2024*"
   ]
  },
  {
   "cell_type": "code",
   "execution_count": 1,
   "id": "5d165873",
   "metadata": {},
   "outputs": [],
   "source": [
    "#gọi các thư viện:\n",
    "import pandas as pd\n",
    "import matplotlib.pyplot as plt\n",
    "import numpy as np\n",
    "import seaborn as sns\n",
    "\n",
    "#------------------------------\n",
    "import warnings\n",
    "warnings.filterwarnings('ignore')"
   ]
  },
  {
   "cell_type": "markdown",
   "id": "d204a204",
   "metadata": {},
   "source": [
    "###  Đọc tập dữ liệu\n",
    "---"
   ]
  },
  {
   "cell_type": "code",
   "execution_count": 2,
   "id": "3d7ec00f",
   "metadata": {},
   "outputs": [
    {
     "name": "stdout",
     "output_type": "stream",
     "text": [
      "<class 'pandas.core.frame.DataFrame'>\n",
      "RangeIndex: 45211 entries, 0 to 45210\n",
      "Data columns (total 11 columns):\n",
      " #   Column     Non-Null Count  Dtype \n",
      "---  ------     --------------  ----- \n",
      " 0   id         45211 non-null  object\n",
      " 1   age        45211 non-null  int64 \n",
      " 2   job        45211 non-null  object\n",
      " 3   marital    45211 non-null  object\n",
      " 4   education  45211 non-null  object\n",
      " 5   balance    45211 non-null  int64 \n",
      " 6   loan       45211 non-null  object\n",
      " 7   contact    45211 non-null  object\n",
      " 8   month      45211 non-null  object\n",
      " 9   campaign   45211 non-null  int64 \n",
      " 10  deposit    45211 non-null  object\n",
      "dtypes: int64(3), object(8)\n",
      "memory usage: 3.8+ MB\n"
     ]
    }
   ],
   "source": [
    "#Đọc tập dữ liệu:\n",
    "data_bank_full = pd.read_csv('Data/Data_Bank_Marketing2023.csv')\n",
    "data_bank_full.info()"
   ]
  },
  {
   "cell_type": "code",
   "execution_count": 3,
   "id": "14238acf",
   "metadata": {},
   "outputs": [
    {
     "data": {
      "text/html": [
       "<div>\n",
       "<style scoped>\n",
       "    .dataframe tbody tr th:only-of-type {\n",
       "        vertical-align: middle;\n",
       "    }\n",
       "\n",
       "    .dataframe tbody tr th {\n",
       "        vertical-align: top;\n",
       "    }\n",
       "\n",
       "    .dataframe thead th {\n",
       "        text-align: right;\n",
       "    }\n",
       "</style>\n",
       "<table border=\"1\" class=\"dataframe\">\n",
       "  <thead>\n",
       "    <tr style=\"text-align: right;\">\n",
       "      <th></th>\n",
       "      <th>id</th>\n",
       "      <th>age</th>\n",
       "      <th>job</th>\n",
       "      <th>marital</th>\n",
       "      <th>education</th>\n",
       "      <th>balance</th>\n",
       "      <th>loan</th>\n",
       "      <th>contact</th>\n",
       "      <th>month</th>\n",
       "      <th>campaign</th>\n",
       "      <th>deposit</th>\n",
       "    </tr>\n",
       "  </thead>\n",
       "  <tbody>\n",
       "    <tr>\n",
       "      <th>0</th>\n",
       "      <td>cus_0</td>\n",
       "      <td>58</td>\n",
       "      <td>management</td>\n",
       "      <td>married</td>\n",
       "      <td>tertiary</td>\n",
       "      <td>2143</td>\n",
       "      <td>no</td>\n",
       "      <td>other</td>\n",
       "      <td>may</td>\n",
       "      <td>1</td>\n",
       "      <td>no</td>\n",
       "    </tr>\n",
       "    <tr>\n",
       "      <th>1</th>\n",
       "      <td>cus_1</td>\n",
       "      <td>44</td>\n",
       "      <td>technician</td>\n",
       "      <td>single</td>\n",
       "      <td>secondary</td>\n",
       "      <td>29</td>\n",
       "      <td>no</td>\n",
       "      <td>other</td>\n",
       "      <td>may</td>\n",
       "      <td>1</td>\n",
       "      <td>no</td>\n",
       "    </tr>\n",
       "    <tr>\n",
       "      <th>2</th>\n",
       "      <td>cus_2</td>\n",
       "      <td>33</td>\n",
       "      <td>entrepreneur</td>\n",
       "      <td>married</td>\n",
       "      <td>secondary</td>\n",
       "      <td>2</td>\n",
       "      <td>yes</td>\n",
       "      <td>other</td>\n",
       "      <td>may</td>\n",
       "      <td>1</td>\n",
       "      <td>no</td>\n",
       "    </tr>\n",
       "    <tr>\n",
       "      <th>3</th>\n",
       "      <td>cus_3</td>\n",
       "      <td>47</td>\n",
       "      <td>blue-collar</td>\n",
       "      <td>married</td>\n",
       "      <td>unknown</td>\n",
       "      <td>1506</td>\n",
       "      <td>no</td>\n",
       "      <td>other</td>\n",
       "      <td>may</td>\n",
       "      <td>1</td>\n",
       "      <td>no</td>\n",
       "    </tr>\n",
       "    <tr>\n",
       "      <th>4</th>\n",
       "      <td>cus_4</td>\n",
       "      <td>33</td>\n",
       "      <td>unknown</td>\n",
       "      <td>single</td>\n",
       "      <td>unknown</td>\n",
       "      <td>1</td>\n",
       "      <td>no</td>\n",
       "      <td>other</td>\n",
       "      <td>may</td>\n",
       "      <td>1</td>\n",
       "      <td>no</td>\n",
       "    </tr>\n",
       "  </tbody>\n",
       "</table>\n",
       "</div>"
      ],
      "text/plain": [
       "      id  age           job  marital  education  balance loan contact month  \\\n",
       "0  cus_0   58    management  married   tertiary     2143   no   other   may   \n",
       "1  cus_1   44    technician   single  secondary       29   no   other   may   \n",
       "2  cus_2   33  entrepreneur  married  secondary        2  yes   other   may   \n",
       "3  cus_3   47   blue-collar  married    unknown     1506   no   other   may   \n",
       "4  cus_4   33       unknown   single    unknown        1   no   other   may   \n",
       "\n",
       "   campaign deposit  \n",
       "0         1      no  \n",
       "1         1      no  \n",
       "2         1      no  \n",
       "3         1      no  \n",
       "4         1      no  "
      ]
     },
     "execution_count": 3,
     "metadata": {},
     "output_type": "execute_result"
    }
   ],
   "source": [
    "#Hiển thị 5 bản ghi đầu tiên:\n",
    "data_bank_full.head(5)"
   ]
  },
  {
   "cell_type": "code",
   "execution_count": 4,
   "id": "b26910b2",
   "metadata": {},
   "outputs": [
    {
     "data": {
      "text/html": [
       "<div>\n",
       "<style scoped>\n",
       "    .dataframe tbody tr th:only-of-type {\n",
       "        vertical-align: middle;\n",
       "    }\n",
       "\n",
       "    .dataframe tbody tr th {\n",
       "        vertical-align: top;\n",
       "    }\n",
       "\n",
       "    .dataframe thead th {\n",
       "        text-align: right;\n",
       "    }\n",
       "</style>\n",
       "<table border=\"1\" class=\"dataframe\">\n",
       "  <thead>\n",
       "    <tr style=\"text-align: right;\">\n",
       "      <th></th>\n",
       "      <th>id</th>\n",
       "      <th>age</th>\n",
       "      <th>job</th>\n",
       "      <th>marital</th>\n",
       "      <th>education</th>\n",
       "      <th>balance</th>\n",
       "      <th>loan</th>\n",
       "      <th>contact</th>\n",
       "      <th>month</th>\n",
       "      <th>campaign</th>\n",
       "      <th>deposit</th>\n",
       "    </tr>\n",
       "  </thead>\n",
       "  <tbody>\n",
       "    <tr>\n",
       "      <th>45206</th>\n",
       "      <td>cus_45206</td>\n",
       "      <td>51</td>\n",
       "      <td>technician</td>\n",
       "      <td>married</td>\n",
       "      <td>tertiary</td>\n",
       "      <td>825</td>\n",
       "      <td>no</td>\n",
       "      <td>cellular</td>\n",
       "      <td>nov</td>\n",
       "      <td>3</td>\n",
       "      <td>yes</td>\n",
       "    </tr>\n",
       "    <tr>\n",
       "      <th>45207</th>\n",
       "      <td>cus_45207</td>\n",
       "      <td>71</td>\n",
       "      <td>retired</td>\n",
       "      <td>divorced</td>\n",
       "      <td>primary</td>\n",
       "      <td>1729</td>\n",
       "      <td>no</td>\n",
       "      <td>cellular</td>\n",
       "      <td>nov</td>\n",
       "      <td>2</td>\n",
       "      <td>yes</td>\n",
       "    </tr>\n",
       "    <tr>\n",
       "      <th>45208</th>\n",
       "      <td>cus_45208</td>\n",
       "      <td>72</td>\n",
       "      <td>retired</td>\n",
       "      <td>married</td>\n",
       "      <td>secondary</td>\n",
       "      <td>5715</td>\n",
       "      <td>no</td>\n",
       "      <td>cellular</td>\n",
       "      <td>nov</td>\n",
       "      <td>5</td>\n",
       "      <td>yes</td>\n",
       "    </tr>\n",
       "    <tr>\n",
       "      <th>45209</th>\n",
       "      <td>cus_45209</td>\n",
       "      <td>57</td>\n",
       "      <td>blue-collar</td>\n",
       "      <td>married</td>\n",
       "      <td>secondary</td>\n",
       "      <td>668</td>\n",
       "      <td>no</td>\n",
       "      <td>telephone</td>\n",
       "      <td>nov</td>\n",
       "      <td>4</td>\n",
       "      <td>no</td>\n",
       "    </tr>\n",
       "    <tr>\n",
       "      <th>45210</th>\n",
       "      <td>cus_45210</td>\n",
       "      <td>37</td>\n",
       "      <td>entrepreneur</td>\n",
       "      <td>married</td>\n",
       "      <td>secondary</td>\n",
       "      <td>2971</td>\n",
       "      <td>no</td>\n",
       "      <td>cellular</td>\n",
       "      <td>nov</td>\n",
       "      <td>2</td>\n",
       "      <td>no</td>\n",
       "    </tr>\n",
       "  </tbody>\n",
       "</table>\n",
       "</div>"
      ],
      "text/plain": [
       "              id  age           job   marital  education  balance loan  \\\n",
       "45206  cus_45206   51    technician   married   tertiary      825   no   \n",
       "45207  cus_45207   71       retired  divorced    primary     1729   no   \n",
       "45208  cus_45208   72       retired   married  secondary     5715   no   \n",
       "45209  cus_45209   57   blue-collar   married  secondary      668   no   \n",
       "45210  cus_45210   37  entrepreneur   married  secondary     2971   no   \n",
       "\n",
       "         contact month  campaign deposit  \n",
       "45206   cellular   nov         3     yes  \n",
       "45207   cellular   nov         2     yes  \n",
       "45208   cellular   nov         5     yes  \n",
       "45209  telephone   nov         4      no  \n",
       "45210   cellular   nov         2      no  "
      ]
     },
     "execution_count": 4,
     "metadata": {},
     "output_type": "execute_result"
    }
   ],
   "source": [
    "#Hiển thị 5 bản ghi cuối cùng:\n",
    "data_bank_full.tail(5)"
   ]
  },
  {
   "cell_type": "code",
   "execution_count": 5,
   "id": "1940b927",
   "metadata": {},
   "outputs": [
    {
     "data": {
      "text/html": [
       "<div>\n",
       "<style scoped>\n",
       "    .dataframe tbody tr th:only-of-type {\n",
       "        vertical-align: middle;\n",
       "    }\n",
       "\n",
       "    .dataframe tbody tr th {\n",
       "        vertical-align: top;\n",
       "    }\n",
       "\n",
       "    .dataframe thead th {\n",
       "        text-align: right;\n",
       "    }\n",
       "</style>\n",
       "<table border=\"1\" class=\"dataframe\">\n",
       "  <thead>\n",
       "    <tr style=\"text-align: right;\">\n",
       "      <th></th>\n",
       "      <th>id</th>\n",
       "      <th>age</th>\n",
       "      <th>job</th>\n",
       "      <th>marital</th>\n",
       "      <th>education</th>\n",
       "      <th>balance</th>\n",
       "      <th>loan</th>\n",
       "      <th>contact</th>\n",
       "      <th>month</th>\n",
       "      <th>campaign</th>\n",
       "      <th>deposit</th>\n",
       "    </tr>\n",
       "  </thead>\n",
       "  <tbody>\n",
       "    <tr>\n",
       "      <th>19173</th>\n",
       "      <td>cus_19173</td>\n",
       "      <td>35</td>\n",
       "      <td>technician</td>\n",
       "      <td>married</td>\n",
       "      <td>tertiary</td>\n",
       "      <td>489</td>\n",
       "      <td>no</td>\n",
       "      <td>cellular</td>\n",
       "      <td>aug</td>\n",
       "      <td>2</td>\n",
       "      <td>no</td>\n",
       "    </tr>\n",
       "    <tr>\n",
       "      <th>4271</th>\n",
       "      <td>cus_4271</td>\n",
       "      <td>43</td>\n",
       "      <td>services</td>\n",
       "      <td>divorced</td>\n",
       "      <td>secondary</td>\n",
       "      <td>1040</td>\n",
       "      <td>no</td>\n",
       "      <td>other</td>\n",
       "      <td>may</td>\n",
       "      <td>3</td>\n",
       "      <td>yes</td>\n",
       "    </tr>\n",
       "    <tr>\n",
       "      <th>36386</th>\n",
       "      <td>cus_36386</td>\n",
       "      <td>37</td>\n",
       "      <td>management</td>\n",
       "      <td>married</td>\n",
       "      <td>tertiary</td>\n",
       "      <td>0</td>\n",
       "      <td>no</td>\n",
       "      <td>cellular</td>\n",
       "      <td>may</td>\n",
       "      <td>2</td>\n",
       "      <td>no</td>\n",
       "    </tr>\n",
       "    <tr>\n",
       "      <th>10186</th>\n",
       "      <td>cus_10186</td>\n",
       "      <td>38</td>\n",
       "      <td>admin.</td>\n",
       "      <td>married</td>\n",
       "      <td>primary</td>\n",
       "      <td>464</td>\n",
       "      <td>yes</td>\n",
       "      <td>other</td>\n",
       "      <td>jun</td>\n",
       "      <td>2</td>\n",
       "      <td>no</td>\n",
       "    </tr>\n",
       "    <tr>\n",
       "      <th>29988</th>\n",
       "      <td>cus_29988</td>\n",
       "      <td>43</td>\n",
       "      <td>technician</td>\n",
       "      <td>married</td>\n",
       "      <td>secondary</td>\n",
       "      <td>1650</td>\n",
       "      <td>no</td>\n",
       "      <td>cellular</td>\n",
       "      <td>feb</td>\n",
       "      <td>1</td>\n",
       "      <td>no</td>\n",
       "    </tr>\n",
       "  </tbody>\n",
       "</table>\n",
       "</div>"
      ],
      "text/plain": [
       "              id  age         job   marital  education  balance loan  \\\n",
       "19173  cus_19173   35  technician   married   tertiary      489   no   \n",
       "4271    cus_4271   43    services  divorced  secondary     1040   no   \n",
       "36386  cus_36386   37  management   married   tertiary        0   no   \n",
       "10186  cus_10186   38      admin.   married    primary      464  yes   \n",
       "29988  cus_29988   43  technician   married  secondary     1650   no   \n",
       "\n",
       "        contact month  campaign deposit  \n",
       "19173  cellular   aug         2      no  \n",
       "4271      other   may         3     yes  \n",
       "36386  cellular   may         2      no  \n",
       "10186     other   jun         2      no  \n",
       "29988  cellular   feb         1      no  "
      ]
     },
     "execution_count": 5,
     "metadata": {},
     "output_type": "execute_result"
    }
   ],
   "source": [
    "data_bank_full.sample(5)"
   ]
  },
  {
   "cell_type": "markdown",
   "id": "989a20ad",
   "metadata": {},
   "source": [
    "# Bước 2. Khám phá để hiểu dữ liệu (Understanding)\n",
    "---\n",
    "Tổng số 45211 khách hàng được tiếp thị trong chiến dịch"
   ]
  },
  {
   "cell_type": "code",
   "execution_count": 6,
   "id": "cdc53df1",
   "metadata": {},
   "outputs": [
    {
     "name": "stdout",
     "output_type": "stream",
     "text": [
      "<class 'pandas.core.frame.DataFrame'>\n",
      "RangeIndex: 45211 entries, 0 to 45210\n",
      "Data columns (total 11 columns):\n",
      " #   Column     Non-Null Count  Dtype \n",
      "---  ------     --------------  ----- \n",
      " 0   id         45211 non-null  object\n",
      " 1   age        45211 non-null  int64 \n",
      " 2   job        45211 non-null  object\n",
      " 3   marital    45211 non-null  object\n",
      " 4   education  45211 non-null  object\n",
      " 5   balance    45211 non-null  int64 \n",
      " 6   loan       45211 non-null  object\n",
      " 7   contact    45211 non-null  object\n",
      " 8   month      45211 non-null  object\n",
      " 9   campaign   45211 non-null  int64 \n",
      " 10  deposit    45211 non-null  object\n",
      "dtypes: int64(3), object(8)\n",
      "memory usage: 3.8+ MB\n"
     ]
    }
   ],
   "source": [
    "#Các thông tin của một khách hàng:\n",
    "data_bank_full.info()"
   ]
  },
  {
   "cell_type": "code",
   "execution_count": 7,
   "id": "c4e0af3c",
   "metadata": {},
   "outputs": [
    {
     "data": {
      "text/html": [
       "<div>\n",
       "<style scoped>\n",
       "    .dataframe tbody tr th:only-of-type {\n",
       "        vertical-align: middle;\n",
       "    }\n",
       "\n",
       "    .dataframe tbody tr th {\n",
       "        vertical-align: top;\n",
       "    }\n",
       "\n",
       "    .dataframe thead th {\n",
       "        text-align: right;\n",
       "    }\n",
       "</style>\n",
       "<table border=\"1\" class=\"dataframe\">\n",
       "  <thead>\n",
       "    <tr style=\"text-align: right;\">\n",
       "      <th></th>\n",
       "      <th>age</th>\n",
       "      <th>balance</th>\n",
       "      <th>campaign</th>\n",
       "    </tr>\n",
       "  </thead>\n",
       "  <tbody>\n",
       "    <tr>\n",
       "      <th>count</th>\n",
       "      <td>45211.000000</td>\n",
       "      <td>45211.000000</td>\n",
       "      <td>45211.000000</td>\n",
       "    </tr>\n",
       "    <tr>\n",
       "      <th>mean</th>\n",
       "      <td>40.936210</td>\n",
       "      <td>1362.272058</td>\n",
       "      <td>2.571034</td>\n",
       "    </tr>\n",
       "    <tr>\n",
       "      <th>std</th>\n",
       "      <td>10.618762</td>\n",
       "      <td>3044.765829</td>\n",
       "      <td>2.136777</td>\n",
       "    </tr>\n",
       "    <tr>\n",
       "      <th>min</th>\n",
       "      <td>18.000000</td>\n",
       "      <td>-8019.000000</td>\n",
       "      <td>1.000000</td>\n",
       "    </tr>\n",
       "    <tr>\n",
       "      <th>25%</th>\n",
       "      <td>33.000000</td>\n",
       "      <td>72.000000</td>\n",
       "      <td>1.000000</td>\n",
       "    </tr>\n",
       "    <tr>\n",
       "      <th>50%</th>\n",
       "      <td>39.000000</td>\n",
       "      <td>448.000000</td>\n",
       "      <td>2.000000</td>\n",
       "    </tr>\n",
       "    <tr>\n",
       "      <th>75%</th>\n",
       "      <td>48.000000</td>\n",
       "      <td>1428.000000</td>\n",
       "      <td>3.000000</td>\n",
       "    </tr>\n",
       "    <tr>\n",
       "      <th>max</th>\n",
       "      <td>95.000000</td>\n",
       "      <td>102127.000000</td>\n",
       "      <td>14.000000</td>\n",
       "    </tr>\n",
       "  </tbody>\n",
       "</table>\n",
       "</div>"
      ],
      "text/plain": [
       "                age        balance      campaign\n",
       "count  45211.000000   45211.000000  45211.000000\n",
       "mean      40.936210    1362.272058      2.571034\n",
       "std       10.618762    3044.765829      2.136777\n",
       "min       18.000000   -8019.000000      1.000000\n",
       "25%       33.000000      72.000000      1.000000\n",
       "50%       39.000000     448.000000      2.000000\n",
       "75%       48.000000    1428.000000      3.000000\n",
       "max       95.000000  102127.000000     14.000000"
      ]
     },
     "execution_count": 7,
     "metadata": {},
     "output_type": "execute_result"
    }
   ],
   "source": [
    "#Hiển thị các đặc trưng thống kê:\n",
    "# Dữ liệu số (định lượng)\n",
    "data_bank_full.describe()"
   ]
  },
  {
   "cell_type": "code",
   "execution_count": 8,
   "id": "9b5d4880",
   "metadata": {},
   "outputs": [
    {
     "data": {
      "text/html": [
       "<div>\n",
       "<style scoped>\n",
       "    .dataframe tbody tr th:only-of-type {\n",
       "        vertical-align: middle;\n",
       "    }\n",
       "\n",
       "    .dataframe tbody tr th {\n",
       "        vertical-align: top;\n",
       "    }\n",
       "\n",
       "    .dataframe thead th {\n",
       "        text-align: right;\n",
       "    }\n",
       "</style>\n",
       "<table border=\"1\" class=\"dataframe\">\n",
       "  <thead>\n",
       "    <tr style=\"text-align: right;\">\n",
       "      <th></th>\n",
       "      <th>id</th>\n",
       "      <th>age</th>\n",
       "      <th>job</th>\n",
       "      <th>marital</th>\n",
       "      <th>education</th>\n",
       "      <th>balance</th>\n",
       "      <th>loan</th>\n",
       "      <th>contact</th>\n",
       "      <th>month</th>\n",
       "      <th>campaign</th>\n",
       "      <th>deposit</th>\n",
       "    </tr>\n",
       "  </thead>\n",
       "  <tbody>\n",
       "    <tr>\n",
       "      <th>2967</th>\n",
       "      <td>cus_2967</td>\n",
       "      <td>37</td>\n",
       "      <td>technician</td>\n",
       "      <td>married</td>\n",
       "      <td>tertiary</td>\n",
       "      <td>0</td>\n",
       "      <td>no</td>\n",
       "      <td>other</td>\n",
       "      <td>may</td>\n",
       "      <td>14</td>\n",
       "      <td>no</td>\n",
       "    </tr>\n",
       "    <tr>\n",
       "      <th>3044</th>\n",
       "      <td>cus_3044</td>\n",
       "      <td>51</td>\n",
       "      <td>unemployed</td>\n",
       "      <td>married</td>\n",
       "      <td>secondary</td>\n",
       "      <td>425</td>\n",
       "      <td>no</td>\n",
       "      <td>other</td>\n",
       "      <td>may</td>\n",
       "      <td>14</td>\n",
       "      <td>no</td>\n",
       "    </tr>\n",
       "    <tr>\n",
       "      <th>3149</th>\n",
       "      <td>cus_3149</td>\n",
       "      <td>50</td>\n",
       "      <td>blue-collar</td>\n",
       "      <td>married</td>\n",
       "      <td>secondary</td>\n",
       "      <td>810</td>\n",
       "      <td>no</td>\n",
       "      <td>other</td>\n",
       "      <td>may</td>\n",
       "      <td>14</td>\n",
       "      <td>no</td>\n",
       "    </tr>\n",
       "    <tr>\n",
       "      <th>4208</th>\n",
       "      <td>cus_4208</td>\n",
       "      <td>36</td>\n",
       "      <td>blue-collar</td>\n",
       "      <td>married</td>\n",
       "      <td>unknown</td>\n",
       "      <td>79</td>\n",
       "      <td>no</td>\n",
       "      <td>other</td>\n",
       "      <td>may</td>\n",
       "      <td>14</td>\n",
       "      <td>no</td>\n",
       "    </tr>\n",
       "    <tr>\n",
       "      <th>4361</th>\n",
       "      <td>cus_4361</td>\n",
       "      <td>47</td>\n",
       "      <td>blue-collar</td>\n",
       "      <td>married</td>\n",
       "      <td>unknown</td>\n",
       "      <td>-345</td>\n",
       "      <td>no</td>\n",
       "      <td>other</td>\n",
       "      <td>may</td>\n",
       "      <td>14</td>\n",
       "      <td>no</td>\n",
       "    </tr>\n",
       "    <tr>\n",
       "      <th>...</th>\n",
       "      <td>...</td>\n",
       "      <td>...</td>\n",
       "      <td>...</td>\n",
       "      <td>...</td>\n",
       "      <td>...</td>\n",
       "      <td>...</td>\n",
       "      <td>...</td>\n",
       "      <td>...</td>\n",
       "      <td>...</td>\n",
       "      <td>...</td>\n",
       "      <td>...</td>\n",
       "    </tr>\n",
       "    <tr>\n",
       "      <th>23986</th>\n",
       "      <td>cus_23986</td>\n",
       "      <td>34</td>\n",
       "      <td>technician</td>\n",
       "      <td>divorced</td>\n",
       "      <td>secondary</td>\n",
       "      <td>347</td>\n",
       "      <td>no</td>\n",
       "      <td>cellular</td>\n",
       "      <td>aug</td>\n",
       "      <td>14</td>\n",
       "      <td>no</td>\n",
       "    </tr>\n",
       "    <tr>\n",
       "      <th>30916</th>\n",
       "      <td>cus_30916</td>\n",
       "      <td>31</td>\n",
       "      <td>technician</td>\n",
       "      <td>single</td>\n",
       "      <td>secondary</td>\n",
       "      <td>2088</td>\n",
       "      <td>no</td>\n",
       "      <td>cellular</td>\n",
       "      <td>feb</td>\n",
       "      <td>14</td>\n",
       "      <td>no</td>\n",
       "    </tr>\n",
       "    <tr>\n",
       "      <th>31581</th>\n",
       "      <td>cus_31581</td>\n",
       "      <td>28</td>\n",
       "      <td>technician</td>\n",
       "      <td>single</td>\n",
       "      <td>tertiary</td>\n",
       "      <td>172</td>\n",
       "      <td>yes</td>\n",
       "      <td>cellular</td>\n",
       "      <td>apr</td>\n",
       "      <td>14</td>\n",
       "      <td>no</td>\n",
       "    </tr>\n",
       "    <tr>\n",
       "      <th>33778</th>\n",
       "      <td>cus_33778</td>\n",
       "      <td>29</td>\n",
       "      <td>self-employed</td>\n",
       "      <td>married</td>\n",
       "      <td>tertiary</td>\n",
       "      <td>246</td>\n",
       "      <td>no</td>\n",
       "      <td>cellular</td>\n",
       "      <td>apr</td>\n",
       "      <td>14</td>\n",
       "      <td>no</td>\n",
       "    </tr>\n",
       "    <tr>\n",
       "      <th>38767</th>\n",
       "      <td>cus_38767</td>\n",
       "      <td>28</td>\n",
       "      <td>admin.</td>\n",
       "      <td>married</td>\n",
       "      <td>secondary</td>\n",
       "      <td>788</td>\n",
       "      <td>no</td>\n",
       "      <td>cellular</td>\n",
       "      <td>may</td>\n",
       "      <td>14</td>\n",
       "      <td>no</td>\n",
       "    </tr>\n",
       "  </tbody>\n",
       "</table>\n",
       "<p>93 rows × 11 columns</p>\n",
       "</div>"
      ],
      "text/plain": [
       "              id  age            job   marital  education  balance loan  \\\n",
       "2967    cus_2967   37     technician   married   tertiary        0   no   \n",
       "3044    cus_3044   51     unemployed   married  secondary      425   no   \n",
       "3149    cus_3149   50    blue-collar   married  secondary      810   no   \n",
       "4208    cus_4208   36    blue-collar   married    unknown       79   no   \n",
       "4361    cus_4361   47    blue-collar   married    unknown     -345   no   \n",
       "...          ...  ...            ...       ...        ...      ...  ...   \n",
       "23986  cus_23986   34     technician  divorced  secondary      347   no   \n",
       "30916  cus_30916   31     technician    single  secondary     2088   no   \n",
       "31581  cus_31581   28     technician    single   tertiary      172  yes   \n",
       "33778  cus_33778   29  self-employed   married   tertiary      246   no   \n",
       "38767  cus_38767   28         admin.   married  secondary      788   no   \n",
       "\n",
       "        contact month  campaign deposit  \n",
       "2967      other   may        14      no  \n",
       "3044      other   may        14      no  \n",
       "3149      other   may        14      no  \n",
       "4208      other   may        14      no  \n",
       "4361      other   may        14      no  \n",
       "...         ...   ...       ...     ...  \n",
       "23986  cellular   aug        14      no  \n",
       "30916  cellular   feb        14      no  \n",
       "31581  cellular   apr        14      no  \n",
       "33778  cellular   apr        14      no  \n",
       "38767  cellular   may        14      no  \n",
       "\n",
       "[93 rows x 11 columns]"
      ]
     },
     "execution_count": 8,
     "metadata": {},
     "output_type": "execute_result"
    }
   ],
   "source": [
    "#Lọc danh sách những khách hàng liên lạc 14 lần\n",
    "data_bank_full[data_bank_full['campaign']==14]"
   ]
  },
  {
   "cell_type": "code",
   "execution_count": 9,
   "id": "a29dbeaf",
   "metadata": {},
   "outputs": [
    {
     "data": {
      "text/html": [
       "<div>\n",
       "<style scoped>\n",
       "    .dataframe tbody tr th:only-of-type {\n",
       "        vertical-align: middle;\n",
       "    }\n",
       "\n",
       "    .dataframe tbody tr th {\n",
       "        vertical-align: top;\n",
       "    }\n",
       "\n",
       "    .dataframe thead th {\n",
       "        text-align: right;\n",
       "    }\n",
       "</style>\n",
       "<table border=\"1\" class=\"dataframe\">\n",
       "  <thead>\n",
       "    <tr style=\"text-align: right;\">\n",
       "      <th></th>\n",
       "      <th>id</th>\n",
       "      <th>job</th>\n",
       "      <th>marital</th>\n",
       "      <th>education</th>\n",
       "      <th>loan</th>\n",
       "      <th>contact</th>\n",
       "      <th>month</th>\n",
       "      <th>deposit</th>\n",
       "    </tr>\n",
       "  </thead>\n",
       "  <tbody>\n",
       "    <tr>\n",
       "      <th>count</th>\n",
       "      <td>45211</td>\n",
       "      <td>45211</td>\n",
       "      <td>45211</td>\n",
       "      <td>45211</td>\n",
       "      <td>45211</td>\n",
       "      <td>45211</td>\n",
       "      <td>45211</td>\n",
       "      <td>45211</td>\n",
       "    </tr>\n",
       "    <tr>\n",
       "      <th>unique</th>\n",
       "      <td>45211</td>\n",
       "      <td>12</td>\n",
       "      <td>3</td>\n",
       "      <td>4</td>\n",
       "      <td>2</td>\n",
       "      <td>3</td>\n",
       "      <td>12</td>\n",
       "      <td>2</td>\n",
       "    </tr>\n",
       "    <tr>\n",
       "      <th>top</th>\n",
       "      <td>cus_0</td>\n",
       "      <td>blue-collar</td>\n",
       "      <td>married</td>\n",
       "      <td>secondary</td>\n",
       "      <td>no</td>\n",
       "      <td>cellular</td>\n",
       "      <td>may</td>\n",
       "      <td>no</td>\n",
       "    </tr>\n",
       "    <tr>\n",
       "      <th>freq</th>\n",
       "      <td>1</td>\n",
       "      <td>9732</td>\n",
       "      <td>27214</td>\n",
       "      <td>23202</td>\n",
       "      <td>37967</td>\n",
       "      <td>29285</td>\n",
       "      <td>13766</td>\n",
       "      <td>39922</td>\n",
       "    </tr>\n",
       "  </tbody>\n",
       "</table>\n",
       "</div>"
      ],
      "text/plain": [
       "           id          job  marital  education   loan   contact  month deposit\n",
       "count   45211        45211    45211      45211  45211     45211  45211   45211\n",
       "unique  45211           12        3          4      2         3     12       2\n",
       "top     cus_0  blue-collar  married  secondary     no  cellular    may      no\n",
       "freq        1         9732    27214      23202  37967     29285  13766   39922"
      ]
     },
     "execution_count": 9,
     "metadata": {},
     "output_type": "execute_result"
    }
   ],
   "source": [
    "#Dữ liệu catagorical (định tính)\n",
    "data_bank_full.describe(include='O')"
   ]
  },
  {
   "cell_type": "markdown",
   "id": "6eadf26c",
   "metadata": {},
   "source": [
    "### Phần A: Thông tin của khách hàng\n",
    "### 2.1 Thuộc tính tuổi của khách hàng (Age) trong chiến dịch Marketing\n",
    "---"
   ]
  },
  {
   "cell_type": "code",
   "execution_count": 10,
   "id": "1ab18358",
   "metadata": {},
   "outputs": [
    {
     "data": {
      "text/plain": [
       "count    45211.000000\n",
       "mean        40.936210\n",
       "std         10.618762\n",
       "min         18.000000\n",
       "25%         33.000000\n",
       "50%         39.000000\n",
       "75%         48.000000\n",
       "max         95.000000\n",
       "Name: age, dtype: float64"
      ]
     },
     "execution_count": 10,
     "metadata": {},
     "output_type": "execute_result"
    }
   ],
   "source": [
    "#1. thuộc tính age:\n",
    "data_bank_full['age'].describe()"
   ]
  },
  {
   "cell_type": "code",
   "execution_count": 11,
   "id": "b7bfd6f0",
   "metadata": {},
   "outputs": [
    {
     "data": {
      "image/png": "[encoded data removed]",
      "text/plain": [
       "<Figure size 1000x500 with 1 Axes>"
      ]
     },
     "metadata": {},
     "output_type": "display_data"
    }
   ],
   "source": [
    "#Biểu đồ histogram:\n",
    "plt.figure(figsize=(10,5))\n",
    "data_bank_full['age'].plot(kind='hist',bins=20)\n",
    "plt.title('BIỂU ĐỒ TẦN SUẤT ĐỘ TUỔI CỦA KHÁCH HÀNG')\n",
    "plt.grid(ls='--')\n",
    "plt.show()"
   ]
  },
  {
   "cell_type": "code",
   "execution_count": null,
   "id": "1691a4f4",
   "metadata": {},
   "outputs": [],
   "source": [
    "#Tính tỷ lệ % khách hàng trong khoảng từ 28-60 tuổi:\n",
    "len(data_bank_full[(data_bank_full['age']>28) &  (data_bank_full['age']<60)])/len(data_bank_full)"
   ]
  },
  {
   "cell_type": "markdown",
   "id": "01b3be33",
   "metadata": {},
   "source": [
    "**Nhận xét:**\n",
    "1. Độ tuổi của khách hàng trong chiến dịch marketing mở sổ tiết kiệm có kỳ hạn nằm trong khoảng từ 18-95 tuổi, tuổi chung bình là ~41 tuổi.\n",
    "2. khách hàng trong chiến dịch Marketing này tập trung chủ yếu trong khoảng từ 28-60 tuổi (chiếm ~87%)"
   ]
  },
  {
   "cell_type": "markdown",
   "id": "7f8da98d",
   "metadata": {},
   "source": [
    "### 2.2 Thuộc tính công việc của khách hàng (job)\n",
    "---\n",
    "bao gồm 12 loại công việc khác nhau: \n",
    "1. blue-collar(lao động phổ thông)\n",
    "2. management (quản lý)\n",
    "3. technician (chuyên viên kỹ thuật)\n",
    "4. admin.   (quản trị viên)\n",
    "5. services (dịch vụ)\n",
    "6. retired  (nghỉ hưu)\n",
    "7. self-employed (lao động tự do)\n",
    "8. entrepreneur (chủ doanh nghiệp)\n",
    "9. unemployed (thất nghiệp)\n",
    "10. housemaid  (người giúp việc)\n",
    "11. student (sinh viên)\n",
    "12. unknown (không có thông tin)"
   ]
  },
  {
   "cell_type": "code",
   "execution_count": null,
   "id": "8b1d26b2",
   "metadata": {},
   "outputs": [],
   "source": [
    "#Thống kê số lượng theo từng công việc:\n",
    "job = data_bank_full['job'].value_counts()\n",
    "job"
   ]
  },
  {
   "cell_type": "code",
   "execution_count": null,
   "id": "20fc80a8",
   "metadata": {},
   "outputs": [],
   "source": [
    "#xây dựng một số hàm vẽ biểu đồ:\n",
    "#Hàm hiển thị text trên biểu đồ cột:\n",
    "def label_bar(bar_plot,bar_label):\n",
    "    for idx,rect in enumerate(bar_plot):\n",
    "        height = rect.get_height()\n",
    "        plt.text(rect.get_x() + rect.get_width()/2., 1.005*height,\n",
    "                bar_label[idx],\n",
    "                ha='center', va='bottom', rotation=0)\n",
    "\n",
    "#Hàm vẽ biểu đồ hình cột:\n",
    "def plot_bar(r,h,p,x,y,c,t=0):\n",
    "    plt.subplot(r,h,p)\n",
    "    ax1 = plt.bar(x,y,color=c)\n",
    "    label_bar(ax1,y)\n",
    "    plt.xticks(x,\n",
    "           rotation=t)\n",
    "    plt.grid(ls='--')\n",
    "    \n",
    "#Hàm vẽ biểu đồ hình tròn:\n",
    "def plot_pie(r,h,p,label,value,c):\n",
    "    plt.subplot(r,h,p)\n",
    "    plt.pie(value,\n",
    "            labels=label,\n",
    "            colors=c,\n",
    "            startangle=90,\n",
    "            labeldistance=1.1,\n",
    "            pctdistance=0.6, \n",
    "            wedgeprops=dict(width=0.7,edgecolor='w'),\n",
    "            autopct='%.2f %%')"
   ]
  },
  {
   "cell_type": "code",
   "execution_count": null,
   "id": "22b0db8f",
   "metadata": {},
   "outputs": [],
   "source": [
    "color1=sns.color_palette()\n",
    "plt.figure(figsize=(18,6))\n",
    "#Trực quan hóa số liệu giới tính:\n",
    "plot_bar(1,2,1,job.index,job.values,color1,90)\n",
    "plot_pie(1,2,2,job.index,job.values,color1)\n",
    "plt.title('THỐNG KÊ SỐ LƯỢNG KHÁCH HÀNG THEO CÔNG VIỆC')\n",
    "plt.show()"
   ]
  },
  {
   "cell_type": "markdown",
   "id": "c6f347b3",
   "metadata": {},
   "source": [
    "**NHẬN XÉT:**\n",
    "1. Khách hàng của đợt tiếp thị chủ yếu lao động phổ thông, quản lý, kỹ thuật viên, quản trị viên và người làm dịch vụ chiếm ~ 80% dữ liệu"
   ]
  },
  {
   "cell_type": "code",
   "execution_count": null,
   "id": "2b0a4979",
   "metadata": {},
   "outputs": [],
   "source": []
  },
  {
   "cell_type": "markdown",
   "id": "44a5e4b0",
   "metadata": {},
   "source": [
    "### 2.3 Thống kê tình trạng hôn nhân (marital) của tập khách hàng thực hiện Marketing\n",
    "---\n",
    "Có 3 trạng thái hôn nhân:\n",
    "1. married: có gia đình\n",
    "2. single: độc thân\n",
    "3. divorced: ly hôn hoặc góa bụa"
   ]
  },
  {
   "cell_type": "code",
   "execution_count": null,
   "id": "09796bed",
   "metadata": {},
   "outputs": [],
   "source": [
    "#Thống kê số lượng theo từng trạng thái:\n",
    "marital = data_bank_full['marital'].value_counts()\n",
    "marital"
   ]
  },
  {
   "cell_type": "code",
   "execution_count": null,
   "id": "b8e226a8",
   "metadata": {},
   "outputs": [],
   "source": [
    "plt.figure(figsize=(18,6))\n",
    "#Trực quan hóa số liệu giới tính:\n",
    "plot_bar(1,2,1,marital.index,marital.values,color1)\n",
    "plot_pie(1,2,2,marital.index,marital.values,color1)"
   ]
  },
  {
   "cell_type": "markdown",
   "id": "9f5e3040",
   "metadata": {},
   "source": [
    "**NHẬN XÉT:**\n",
    "Tập khách hàng của chiến dịch marketing chủ yếu là nhóm khách hàng lập gia đình (~ 60%) và độc thân (~ 28%)"
   ]
  },
  {
   "cell_type": "markdown",
   "id": "d640d156",
   "metadata": {},
   "source": [
    "### 2.4 Trình độ học vấn của khách hàng (education) thực hiện Marketing\n",
    "---\n",
    "Có 4 giá trị:\n",
    "1. primary: Tiểu học\n",
    "2. secondary: Trung học cơ sở \n",
    "3. tertiary: Cao học\n",
    "4. unknown: Không có thông tin"
   ]
  },
  {
   "cell_type": "code",
   "execution_count": null,
   "id": "579ca239",
   "metadata": {},
   "outputs": [],
   "source": [
    "#Thống kê số lượng theo từng trạng thái:\n",
    "education = data_bank_full['education'].value_counts()\n",
    "#--------------------------\n",
    "plt.figure(figsize=(18,6))\n",
    "#Trực quan hóa số liệu:\n",
    "plot_bar(1,2,1,education.index,education.values,color1,0)\n",
    "plot_pie(1,2,2,education.index,education.values,color1)"
   ]
  },
  {
   "cell_type": "markdown",
   "id": "572f7d81",
   "metadata": {},
   "source": [
    "**NHẬN XÉT:**\n",
    "1. Trên 50% khách hàng được tiếp thị trong chiến dịch Marketing có trình độ Secondary\n",
    "2. Khoảng 80% khách hàng trong đợt marketing có trình độ từ Trung học cơ sở và cao học."
   ]
  },
  {
   "cell_type": "markdown",
   "id": "54655173",
   "metadata": {},
   "source": [
    "### 2.5 Thống kê số lượng khách hàng có khoản vay (loan) trong tập dữ liệu thực hiện Marketing\n",
    "---\n"
   ]
  },
  {
   "cell_type": "code",
   "execution_count": null,
   "id": "4e3205db",
   "metadata": {},
   "outputs": [],
   "source": [
    "\n",
    "#Thống kê số lượng theo từng trạng thái:\n",
    "loan = data_bank_full['loan'].value_counts()\n",
    "\n",
    "plt.figure(figsize=(14,6))\n",
    "color3=sns.color_palette(\"Set2\")\n",
    "#-----------------------------------------------\n",
    "#Trực quan hóa số liệu giới tính:\n",
    "plot_bar(1,2,1,loan.index,loan.values,color3,0)\n",
    "plot_pie(1,2,2,loan.index,loan.values,color3)"
   ]
  },
  {
   "cell_type": "markdown",
   "id": "88287688",
   "metadata": {},
   "source": [
    "**NHẬN XÉT:**\n",
    "1. Đại đa số khách hàng thực hiện chiến dịch Marketing không có khoản vay nào (37967 ~ 83.98%)\n",
    "2. Có khoảng 16% khách hàng đang có khoản vay khi thực hiện tiếp thị chiến dịch lần này."
   ]
  },
  {
   "cell_type": "code",
   "execution_count": null,
   "id": "128fea3b",
   "metadata": {},
   "outputs": [],
   "source": []
  },
  {
   "cell_type": "markdown",
   "id": "a278d278",
   "metadata": {},
   "source": [
    "### 2.6 Thuộc tính số dư tài khoản (balance) trong tập khách hàng thực hiện Marketing\n",
    "---"
   ]
  },
  {
   "cell_type": "code",
   "execution_count": null,
   "id": "13ac1cb7",
   "metadata": {},
   "outputs": [],
   "source": [
    "#Xác định các đặc trưng thống kê\n",
    "data_bank_full['balance'].describe()"
   ]
  },
  {
   "cell_type": "code",
   "execution_count": null,
   "id": "52dc961e",
   "metadata": {},
   "outputs": [],
   "source": [
    "#Biểu đồ Histogram:\n",
    "plt.figure(figsize=(10,4))\n",
    "data_bank_full['balance'].plot(kind='hist', bins=50)\n",
    "plt.grid(ls='--')\n",
    "plt.show()"
   ]
  },
  {
   "cell_type": "code",
   "execution_count": null,
   "id": "7f32bb21",
   "metadata": {},
   "outputs": [],
   "source": [
    "#Biểu đồ Boxplot:\n",
    "plt.boxplot(data_bank_full['balance'])\n",
    "plt.show()"
   ]
  },
  {
   "cell_type": "code",
   "execution_count": null,
   "id": "f5c33e1a",
   "metadata": {},
   "outputs": [],
   "source": [
    "#Tỷ lệ khách hàng có số dư <=0 trong tập dữ liệu khi thực hiện Marketing:\n",
    "len(data_bank_full[data_bank_full['balance']<=0])/len(data_bank_full)"
   ]
  },
  {
   "cell_type": "code",
   "execution_count": null,
   "id": "1cf0591a",
   "metadata": {},
   "outputs": [],
   "source": [
    "#Tỷ lệ khách hàng có số dư >=2500 Euros trong tập dữ liệu khi thực hiện Marketing:\n",
    "len(data_bank_full[data_bank_full['balance']>=2500])/len(data_bank_full)"
   ]
  },
  {
   "cell_type": "markdown",
   "id": "2bd14cd5",
   "metadata": {},
   "source": [
    "**NHẬN XÉT:**\n",
    "1. Khoản dư trong tài khoản khách hàng có mức độ biến thiên lớn từ -8019 đến 102127 Euro\n",
    "2. Khoản dư trung bình của mỗi tài khoản là ~ 1362 Euro\n",
    "3. Số khách hàng có khoản dư <=0 chiếm ~ 16%, >=2500 Euro chiếm ~ 15%;\n",
    "4. Đại đa số khách hàng trong chiến dịch Marketing có số dư nằm trong khoảng (0,2500) chiếm ~ 70% dữ liệu"
   ]
  },
  {
   "cell_type": "code",
   "execution_count": null,
   "id": "afb3ae19",
   "metadata": {},
   "outputs": [],
   "source": []
  },
  {
   "cell_type": "markdown",
   "id": "8f49c170",
   "metadata": {},
   "source": [
    "### Phần B. Các thông tin liên quan đến chiến dịch marketing\n",
    "### 2.7 Loại liên lạc sử dụng để marketing\n",
    "---"
   ]
  },
  {
   "cell_type": "code",
   "execution_count": null,
   "id": "42ab0d7f",
   "metadata": {},
   "outputs": [],
   "source": [
    "#Thống kê số lượng theo loại liên lạc:\n",
    "contact = data_bank_full['contact'].value_counts()\n",
    "#--------------------------\n",
    "plt.figure(figsize=(18,6))\n",
    "#Trực quan hóa số liệu giới tính:\n",
    "plot_bar(1,2,1,contact.index,contact.values,color1,0)\n",
    "plot_pie(1,2,2,contact.index,contact.values,color1)"
   ]
  },
  {
   "cell_type": "markdown",
   "id": "dc369b64",
   "metadata": {},
   "source": [
    "**NHẬN XÉT:**\n",
    "1. Chiến dịch Marketing thực hiện chủ yếu bằng phương pháp liên lạc qua điện thoại di động (~ 65%) và Phương pháp khác (~ 29%)\n",
    "2. Phương pháp liên lạc qua điện thoại bàn chỉ chiếm khoảng ~ 6.5%\n"
   ]
  },
  {
   "cell_type": "code",
   "execution_count": null,
   "id": "98495861",
   "metadata": {},
   "outputs": [],
   "source": []
  },
  {
   "cell_type": "markdown",
   "id": "9cb7eeef",
   "metadata": {},
   "source": [
    "### 2.8 Tổng số lần liên lạc với khách hàng thực hiện trong chiến dịch marketing\n",
    "---"
   ]
  },
  {
   "cell_type": "code",
   "execution_count": null,
   "id": "5e382d6b",
   "metadata": {},
   "outputs": [],
   "source": [
    "#Xác định các đặc trưng thống kê\n",
    "data_bank_full['campaign'].describe()"
   ]
  },
  {
   "cell_type": "code",
   "execution_count": null,
   "id": "52a14271",
   "metadata": {},
   "outputs": [],
   "source": [
    "df_ca = data_bank_full['campaign'].value_counts()\n",
    "df_ca"
   ]
  },
  {
   "cell_type": "code",
   "execution_count": null,
   "id": "bd05610b",
   "metadata": {},
   "outputs": [],
   "source": [
    "plt.figure(figsize=(13,6))\n",
    "#Trực quan hóa số liệu giới tính:\n",
    "x = list(map(str,df_ca.index))\n",
    "plt.bar(x,df_ca.values,color='brown')\n",
    "plt.title('BIỂU ĐỒ THỐNG KÊ SỐ LƯỢNG KHÁCH HÀNG TƯƠNG ỨNG VỚI SỐ LẦN THỰC HIỆN MARKETING',\n",
    "         fontdict={'fontname':'Tahoma','fontweight':'bold','fontsize':13})\n",
    "plt.grid(ls='--')\n",
    "plt.show()"
   ]
  },
  {
   "cell_type": "code",
   "execution_count": null,
   "id": "1db732ee",
   "metadata": {},
   "outputs": [],
   "source": [
    "#Danh sách các khách hàng có tổng số lần liên lạc >10:\n",
    "data_bank_full[data_bank_full['campaign']>10]"
   ]
  },
  {
   "cell_type": "code",
   "execution_count": null,
   "id": "cd6a7961",
   "metadata": {},
   "outputs": [],
   "source": []
  },
  {
   "cell_type": "markdown",
   "id": "bb98ade1",
   "metadata": {},
   "source": [
    "## Bước 3. Chuẩn bị dữ liệu (Preparation):\n",
    "---\n",
    "Tập dữ liệu này đã được làm sạch, ko có dữ liệu thiếu, dữ liệu trùng lặp...."
   ]
  },
  {
   "cell_type": "code",
   "execution_count": null,
   "id": "ed6245cd",
   "metadata": {},
   "outputs": [],
   "source": [
    "#Các thông tin của một khách hàng:\n",
    "data_bank_full.info()"
   ]
  },
  {
   "cell_type": "code",
   "execution_count": null,
   "id": "b51c44c3",
   "metadata": {},
   "outputs": [],
   "source": [
    "#Kiểm tra dữ liệu mising:\n",
    "data_bank_full.isnull().sum()\n",
    "#--> Tập dữ liệu không chứa thuộc tính Missing"
   ]
  },
  {
   "cell_type": "code",
   "execution_count": null,
   "id": "b69336e8",
   "metadata": {},
   "outputs": [],
   "source": [
    "#Kiểm tra dữ liệu trùng lặp:\n",
    "data_bank_full.duplicated().sum()\n",
    "#--> Không có dữ liệu trùng lặp trong tập dữ liệu"
   ]
  },
  {
   "cell_type": "markdown",
   "id": "3051e871",
   "metadata": {},
   "source": [
    "## Bước 4. Xây dựng mô hình khai thác dữ liệu\n",
    "---\n",
    "<img src='pic/DataMiningModel.png' width='500px'>"
   ]
  },
  {
   "cell_type": "code",
   "execution_count": null,
   "id": "4249a1da",
   "metadata": {},
   "outputs": [],
   "source": [
    "#Thống kê số lượng theo loại liên lạc:\n",
    "y = data_bank_full['deposit'].value_counts()\n",
    "#--------------------------\n",
    "plt.figure(figsize=(15,6))\n",
    "#Trực quan hóa số liệu:\n",
    "plot_bar(1,2,1,y.index,y.values,color1,0)\n",
    "plot_pie(1,2,2,y.index,y.values,color1)\n",
    "plt.title('KẾT QUẢ CỦA CHIẾN DỊCH MARKETING',\n",
    "         fontdict={'fontname':'Tahoma','fontweight':'bold','fontsize':15})\n",
    "plt.show()"
   ]
  },
  {
   "cell_type": "markdown",
   "id": "bdfdf3a6",
   "metadata": {},
   "source": [
    "<img src='Pic/insight.png' width='200px' align='left'>\n",
    "\n",
    "**NHẬN XÉT:**\n",
    "\n",
    "Kết quả của chiến dịch marketing mở sổ tiết kiệm có kỳ hạn cho thấy:\n",
    "Trong tổng số 45211 khách hàng thực hiện marketing, có 5 289 khách hàng đồng ý mở sổ tiết kiệm chỉ chiếm 11.79 % ,  đại đa số khách hàng không mở sổ tiết kiệm chiếm tới 88.3% --> **HIỆU QUẢ CỦA CHIẾN DỊCH RẤT THẤP**"
   ]
  },
  {
   "cell_type": "code",
   "execution_count": null,
   "id": "9efda5fc",
   "metadata": {},
   "outputs": [],
   "source": []
  },
  {
   "cell_type": "markdown",
   "id": "bfda59c1",
   "metadata": {},
   "source": [
    "### CÁC YẾU TỐ ẢNH HƯỞNG TỚI QUYẾT ĐỊNH MỞ SỐ TIẾT KIỆM\n",
    "---\n",
    "\n",
    "### 4.1 Đánh giá Công việc của khách hàng tới việc mở sổ"
   ]
  },
  {
   "cell_type": "code",
   "execution_count": null,
   "id": "cb7bbc58",
   "metadata": {
    "scrolled": true
   },
   "outputs": [],
   "source": [
    "#Công việc ảnh hưởng tới việc mở sổ \n",
    "j_df = pd.DataFrame()\n",
    "\n",
    "j_df['total'] = data_bank_full['job'].value_counts()\n",
    "j_df['yes'] = data_bank_full[data_bank_full['deposit'] == 'yes']['job'].value_counts()\n",
    "\n",
    "#Tính tỷ lệ đồng ý mở trên tổng số \n",
    "j_df['effective(%)'] = np.round((j_df['yes']/j_df['total'])*100,2)\n",
    "\n",
    "j_df"
   ]
  },
  {
   "cell_type": "code",
   "execution_count": null,
   "id": "2d23334d",
   "metadata": {},
   "outputs": [],
   "source": [
    "#Trực quan hóa trên cùng một biểu đồ:\n",
    "fig, ax1 = plt.subplots(figsize=(20,6))\n",
    "x = list(map(str,j_df.index))\n",
    "y_total = j_df['total'].values.ravel()\n",
    "y_eff = j_df['effective(%)'].values.ravel()\n",
    "\n",
    "ax2 = ax1.twinx()\n",
    "ax1.bar(x, y_total)\n",
    "ax2.plot(x, y_eff, 'r--o',ms=15)\n",
    "\n",
    "\n",
    "ax1.set_title('BIỂU ĐỒ THỂ HIỆN SỐ LƯỢNG KHÁCH HÀNG MARKETING VÀ TỶ LỆ ĐỒNG Ý MỞ SỔ THEO NGHỀ NGHIỆP',\n",
    "             fontdict={'fontname':'Tahoma','fontweight':'bold','fontsize':13})\n",
    "ax1.set_ylabel('Tổng số khách hàng', color='k')\n",
    "ax2.set_ylabel('Tỷ lệ đồng ý mở sổ (%)', color='r')\n",
    "\n",
    "ax1.grid(True,ls='--')\n",
    "fig.show()"
   ]
  },
  {
   "cell_type": "markdown",
   "id": "4a4a6029",
   "metadata": {},
   "source": [
    "<img src='Pic/insight.png' width='300px' align='left'>\n",
    "\n",
    "**TỪ DỮ LIỆU TA THẤY:**\n",
    "\n",
    "Có 4 nhóm nghề nghiệp của khách hàng được tiếp thị có tỷ lệ mở sổ cao nhất là:\n",
    "1. student (sinh viên) ~ 28.68%\n",
    "2. retired (nghỉ hưu)  ~ 22.79%\n",
    "3. unemployed (thất nghiệp) ~ 15.50%\n",
    "4. management (quản lý) ~ 13.76\n",
    "\n",
    "Nhóm khách hàng lao động phổ thông (blue-collar) tập trung tiếp thị với số lượng lớn nhất nhưng hiệu quả mang lại là thấp nhấp."
   ]
  },
  {
   "cell_type": "code",
   "execution_count": null,
   "id": "6cd1315a",
   "metadata": {},
   "outputs": [],
   "source": []
  },
  {
   "cell_type": "markdown",
   "id": "cffcdc11",
   "metadata": {},
   "source": [
    "### 4.2 Đánh giá Tình trạng hôn nhân của khách hàng tới việc mở sổ\n",
    "---"
   ]
  },
  {
   "cell_type": "code",
   "execution_count": null,
   "id": "014c2ef2",
   "metadata": {},
   "outputs": [],
   "source": [
    "#Tình trạng hôn nhân ảnh hưởng tới việc mở sổ \n",
    "m_df = pd.DataFrame()\n",
    "\n",
    "m_df['total'] = data_bank_full['marital'].value_counts()\n",
    "m_df['yes'] = data_bank_full[data_bank_full['deposit'] == 'yes']['marital'].value_counts()\n",
    "\n",
    "#Tính tỷ lệ đồng ý mở trên tổng số \n",
    "m_df['effective(%)'] = np.round((m_df['yes']/m_df['total'])*100,2)\n",
    "\n",
    "m_df"
   ]
  },
  {
   "cell_type": "code",
   "execution_count": null,
   "id": "9d7bfc38",
   "metadata": {},
   "outputs": [],
   "source": [
    "#Trực quan hóa trên cùng một biểu đồ:\n",
    "fig, ax1 = plt.subplots(figsize=(10,5))\n",
    "x = list(map(str,m_df.index))\n",
    "y_total = m_df['total'].values.ravel()\n",
    "y_eff = m_df['effective(%)'].values.ravel()\n",
    "\n",
    "ax2 = ax1.twinx()\n",
    "ax1.bar(x, y_total)\n",
    "ax2.plot(x, y_eff, 'r--^',ms=15)\n",
    "\n",
    "\n",
    "ax1.set_title('BIỂU ĐỒ THỂ HIỆN SỐ LƯỢNG KHÁCH HÀNG MARKETING VÀ TỶ LỆ ĐỒNG Ý MỞ SỔ THEO TÌNH TRẠNG HÔN NHÂN',\n",
    "             fontdict={'fontname':'Tahoma','fontweight':'bold','fontsize':13})\n",
    "ax1.set_ylabel('Tổng số khách hàng', color='k')\n",
    "ax2.set_ylabel('Tỷ lệ đồng ý mở sổ (%)', color='r')\n",
    "ax2.set_ylim(0,16)\n",
    "ax1.grid(True,ls='--')\n",
    "fig.show()"
   ]
  },
  {
   "cell_type": "markdown",
   "id": "1281ae81",
   "metadata": {},
   "source": [
    "<img src='Pic/insight.png' width='200px' align='left'>\n",
    "\n",
    "**TỪ DỮ LIỆU TA THẤY:**\n",
    "\n",
    "Tình trạng hôn nhân của Khách hàng ít ảnh hưởng tới việc mở sổ do không có sự chênh lệnh nhiều giữa các nhóm (10%, 12%, 15%).  Trong 3 nhóm tình trạng hôn nhân, nhóm khách hàng độc thân (single) đang có tỷ lệ mở sổ cao nhất (~ 15%). Tỷ lệ mở sổ thấp nhất đang thuộc về nhóm khách hàng có gia đình (~ 10.12%)"
   ]
  },
  {
   "cell_type": "code",
   "execution_count": null,
   "id": "0ce6752e",
   "metadata": {},
   "outputs": [],
   "source": []
  },
  {
   "cell_type": "markdown",
   "id": "0713416d",
   "metadata": {},
   "source": [
    "### 4.3 Đánh giá trình độ học vấn (education) của khách hàng tới việc mở sổ\n",
    "---\n",
    "1. primary: Tiểu học\n",
    "2. secondary: Trung học cơ sở \n",
    "3. tertiary: Cao học\n",
    "4. unknown: Không có thông tin"
   ]
  },
  {
   "cell_type": "code",
   "execution_count": null,
   "id": "89cffea4",
   "metadata": {},
   "outputs": [],
   "source": [
    "#Trình độ học vấn ảnh hưởng tới việc mở sổ \n",
    "e_df = pd.DataFrame()\n",
    "\n",
    "e_df['total'] = data_bank_full['education'].value_counts()\n",
    "e_df['yes'] = data_bank_full[data_bank_full['deposit'] == 'yes']['education'].value_counts()\n",
    "\n",
    "#Tính tỷ lệ đồng ý mở trên tổng số \n",
    "e_df['effective(%)'] = np.round((e_df['yes']/e_df['total'])*100,2)\n",
    "\n",
    "e_df"
   ]
  },
  {
   "cell_type": "code",
   "execution_count": null,
   "id": "ccf0a4a7",
   "metadata": {},
   "outputs": [],
   "source": [
    "#Trực quan hóa trên cùng một biểu đồ:\n",
    "fig, ax1 = plt.subplots(figsize=(15,5))\n",
    "x = list(map(str,e_df.index))\n",
    "y_total = e_df['total'].values.ravel()\n",
    "y_eff = e_df['effective(%)'].values.ravel()\n",
    "\n",
    "ax2 = ax1.twinx()\n",
    "ax1.bar(x, y_total)\n",
    "ax2.plot(x, y_eff, 'r--^',ms=15)\n",
    "\n",
    "\n",
    "ax1.set_title('BIỂU ĐỒ THỂ HIỆN SỐ LƯỢNG KHÁCH HÀNG MARKETING VÀ TỶ LỆ ĐỒNG Ý MỞ SỔ THEO HỌC VẤN',\n",
    "             fontdict={'fontname':'Tahoma','fontweight':'bold','fontsize':13})\n",
    "ax1.set_ylabel('Tổng số khách hàng', color='k')\n",
    "ax2.set_ylabel('Tỷ lệ đồng ý mở sổ (%)', color='r')\n",
    "ax2.set_ylim(0,18)\n",
    "\n",
    "plt.xticks(rotation=90)\n",
    "ax1.grid(True,ls='--')\n",
    "fig.show()"
   ]
  },
  {
   "cell_type": "markdown",
   "id": "2a069731",
   "metadata": {},
   "source": [
    "<img src='Pic/insight.png' width='200px' align='left'>\n",
    "\n",
    "**TỪ DỮ LIỆU TA THẤY:**\n",
    "\n",
    "Trình độ học vấn của khách hàng được tiếp thị ít ảnh hưởng tới kết quả, do không có sự thay đổi rõ rệt về tỷ lệ đồng ý mở sổ, tỷ lệ của 4 nhóm trong khoảng 8.63% của Primary tới 15.01% của nhóm Tertiary, \n",
    "    "
   ]
  },
  {
   "cell_type": "code",
   "execution_count": null,
   "id": "26ad41ee",
   "metadata": {},
   "outputs": [],
   "source": []
  },
  {
   "cell_type": "markdown",
   "id": "28cc6736",
   "metadata": {},
   "source": [
    "### 4.4 Đánh giá Độ tuổi (age) khách hàng tới hiệu quả của chiến dịch Marketing\n",
    "---\n",
    "Tuổi của khách hàng thực hiện tiếp thị từ 18-95 tuổi, trong đó 87% nằm trong khoảng từ 28-60 tuổi"
   ]
  },
  {
   "cell_type": "code",
   "execution_count": null,
   "id": "52fb3b2a",
   "metadata": {},
   "outputs": [],
   "source": [
    "data_bank_full['age'].describe()"
   ]
  },
  {
   "cell_type": "code",
   "execution_count": null,
   "id": "a6a6145c",
   "metadata": {},
   "outputs": [],
   "source": [
    "#Nhóm khách hàng theo từng khoảng tuổi:\n",
    "def group_age(x):\n",
    "    if (18<=x<30):\n",
    "        return '1[<30)'\n",
    "    elif (30 <= x < 40):\n",
    "        return '2[30-40)'\n",
    "    elif (40 <= x < 50):\n",
    "        return '3[40-50)'\n",
    "    elif (50 <= x <= 60):\n",
    "        return '4[50-60)'\n",
    "    elif (60 <= x <= 70):\n",
    "        return '5[60-70)'\n",
    "    else:\n",
    "        return '6[>70)'"
   ]
  },
  {
   "cell_type": "code",
   "execution_count": null,
   "id": "00f221da",
   "metadata": {},
   "outputs": [],
   "source": [
    "#Tạo một cột mới chia theo nhóm tuổi ở trên:\n",
    "data_bank_full['age_group'] = data_bank_full['age'].apply(lambda x: group_age(x))\n",
    "data_bank_full"
   ]
  },
  {
   "cell_type": "code",
   "execution_count": null,
   "id": "c9749567",
   "metadata": {},
   "outputs": [],
   "source": [
    "#Thống kê tuổi khách hàng ảnh hưởng tới việc mở sổ \n",
    "a_df = pd.DataFrame()\n",
    "\n",
    "a_df['total'] = data_bank_full['age_group'].value_counts()\n",
    "a_df['yes'] = data_bank_full[data_bank_full['deposit'] == 'yes']['age_group'].value_counts()\n",
    "\n",
    "#Tính tỷ lệ đồng ý mở trên tổng số \n",
    "a_df['effective(%)'] = np.round((a_df['yes']/a_df['total'])*100,2)\n",
    "a_df.sort_index(inplace=True)\n",
    "a_df"
   ]
  },
  {
   "cell_type": "code",
   "execution_count": null,
   "id": "d4ee0c07",
   "metadata": {},
   "outputs": [],
   "source": [
    "#Trực quan hóa trên cùng một biểu đồ:\n",
    "fig, ax1 = plt.subplots(figsize=(12,5))\n",
    "x = list(map(str,a_df.index))\n",
    "y_total = a_df['total'].values.ravel()\n",
    "y_eff = a_df['effective(%)'].values.ravel()\n",
    "\n",
    "ax2 = ax1.twinx()\n",
    "ax1.bar(x, y_total)\n",
    "ax2.plot(x, y_eff, 'r--^',ms=15)\n",
    "\n",
    "\n",
    "ax1.set_title('BIỂU ĐỒ THỂ HIỆN SỐ LƯỢNG KHÁCH HÀNG MARKETING VÀ TỶ LỆ ĐỒNG Ý MỞ SỔ THEO NHÓM TUỔI',  \n",
    "              fontdict={'fontname':'Tahoma','fontweight':'bold','fontsize':12})\n",
    "ax1.set_ylabel('Tổng số khách hàng', color='k')\n",
    "ax2.set_ylabel('Tỷ lệ đồng ý mở sổ (%)', color='r')\n",
    "ax2.set_ylim(0,50)\n",
    "\n",
    "ax1.grid(True,ls='--')\n",
    "fig.show()"
   ]
  },
  {
   "cell_type": "markdown",
   "id": "1a9394ef",
   "metadata": {},
   "source": [
    "<img src='Pic/insight.png' width='200px' align='left'>\n",
    "\n",
    "**TỪ DỮ LIỆU TA THẤY:**\n",
    "\n",
    "Tuổi của khách hàng ảnh hưởng lớn tới hiệu quả của chiến dịch Marketing. Chiến dịch đạt hiệu quả cao nhất với nhóm khách hàng từ 60 tuổi trở lên với tỷ lệ cao đến trên 40%, sau đó là khách hàng trẻ tuổi dưới 30 có tỷ lệ 17.6%; Các khách hàng từ 30-60 tuổi có tỷ lệ thành công thấp <=10%"
   ]
  },
  {
   "cell_type": "code",
   "execution_count": null,
   "id": "2deca3ef",
   "metadata": {},
   "outputs": [],
   "source": []
  },
  {
   "cell_type": "markdown",
   "id": "fb9650c3",
   "metadata": {},
   "source": [
    "### 4.5 Đánh giá Số dư tài khoản (blance) ảnh hưởng tới việc mở sổ\n",
    "---\n",
    "Số dư tài khoản của khách hàng có khoảng biến thiên lớn; 16% số khách hàng trong đợt tiếp thị có số dư <=0 euro; 15% khách hàng có số dư >=2500 euro; 70% khách hàng có số dữ nằm trong khoảng từ 0-2500 euro"
   ]
  },
  {
   "cell_type": "code",
   "execution_count": null,
   "id": "e0a2ec11",
   "metadata": {},
   "outputs": [],
   "source": [
    "data_bank_full['balance'].describe()"
   ]
  },
  {
   "cell_type": "code",
   "execution_count": null,
   "id": "e6641458",
   "metadata": {},
   "outputs": [],
   "source": [
    "#Nhóm theo từng khoảng tuổi:\n",
    "def group_balance(x):\n",
    "    if (x<=0):\n",
    "        return '0 [<=0)'\n",
    "    elif (0 < x < 500):\n",
    "        return '1 (0-500)'\n",
    "    elif (500 <= x < 1000):\n",
    "        return '2 [500-1000)'\n",
    "    elif (1000 <= x < 2500):\n",
    "        return '3 [1000-2500)'\n",
    "    elif (2500 <= x < 5000):\n",
    "        return '4 [2500-5000)'\n",
    "    else:\n",
    "        return '5 [>=5000)'"
   ]
  },
  {
   "cell_type": "code",
   "execution_count": null,
   "id": "5248b65c",
   "metadata": {},
   "outputs": [],
   "source": [
    "#Tạo một cột mới chia theo nhóm tuổi:\n",
    "data_bank_full['balance_group'] = data_bank_full['balance'].apply(lambda x: group_balance(x))\n",
    "data_bank_full"
   ]
  },
  {
   "cell_type": "code",
   "execution_count": null,
   "id": "bdb281f0",
   "metadata": {},
   "outputs": [],
   "source": [
    "#Số dư tài khoản khách hàng ảnh hưởng tới việc mở sổ \n",
    "b_df = pd.DataFrame()\n",
    "\n",
    "b_df['total'] = data_bank_full['balance_group'].value_counts()\n",
    "b_df['yes'] = data_bank_full[data_bank_full['deposit'] == 'yes']['balance_group'].value_counts()\n",
    "\n",
    "#Tính tỷ lệ đồng ý mở trên tổng số \n",
    "b_df['effective(%)'] = np.round((b_df['yes']/b_df['total'])*100,2)\n",
    "b_df.sort_index(inplace=True)\n",
    "b_df"
   ]
  },
  {
   "cell_type": "code",
   "execution_count": null,
   "id": "0782e0d5",
   "metadata": {},
   "outputs": [],
   "source": [
    "#Trực quan hóa trên cùng một biểu đồ:\n",
    "fig, ax1 = plt.subplots(figsize=(12,5))\n",
    "x = list(map(str,b_df.index))\n",
    "y_total = b_df['total'].values.ravel()\n",
    "y_eff = b_df['effective(%)'].values.ravel()\n",
    "\n",
    "ax2 = ax1.twinx()\n",
    "ax1.bar(x, y_total)\n",
    "ax2.plot(x, y_eff, 'r--^',ms=15)\n",
    "\n",
    "\n",
    "ax1.set_title('BIỂU ĐỒ THỂ HIỆN SỐ LƯỢNG KHÁCH HÀNG MARKETING VÀ TỶ LỆ ĐỒNG Ý MỞ SỔ THEO SỐ DƯ TÀI KHOẢN',\n",
    "             fontdict={'fontname':'Tahoma','fontweight':'bold','fontsize':12})\n",
    "ax1.set_ylabel('Tổng số khách hàng', color='k')\n",
    "ax2.set_ylabel('Tỷ lệ đồng ý mở sổ (%)', color='r')\n",
    "ax2.set_ylim(0,20)\n",
    "plt.xticks(rotation=90)\n",
    "ax1.grid(True,ls='--')\n",
    "fig.show()"
   ]
  },
  {
   "cell_type": "markdown",
   "id": "ff2a591e",
   "metadata": {},
   "source": [
    "<img src='Pic/insight.png' width='200px' align='left'>\n",
    "\n",
    "**TỪ DỮ LIỆU TA THẤY:**\n",
    "\n",
    "1. Số dư trong tài khoản của khách hàng cũng là yếu tố ảnh hưởng tới kết quả của chiến dịch Marketing. \n",
    "2. Các khách hàng có số dư tài khoản <=0 có tỷ lệ mở sổ thấp nhất (6.9%); tỷ lệ mở sổ cao nhất là nhóm khách hàng có số dư trong khoảng từ 2500-5000 euro; \n",
    "3. Các khách hàng có số dư tài khoản từ 1000 euro trở lên khả năng mở sổ là cao "
   ]
  },
  {
   "cell_type": "code",
   "execution_count": null,
   "id": "55444ca5",
   "metadata": {},
   "outputs": [],
   "source": []
  },
  {
   "cell_type": "markdown",
   "id": "97a6c62c",
   "metadata": {},
   "source": [
    "### 4.6 Khoản vay của khách hàng ảnh hưởng tới việc mở sổ\n",
    "---"
   ]
  },
  {
   "cell_type": "code",
   "execution_count": null,
   "id": "ab33142f",
   "metadata": {},
   "outputs": [],
   "source": [
    "#Khoản vay của khách hàng ảnh hưởng tới việc mở sổ \n",
    "l_df = pd.DataFrame()\n",
    "\n",
    "l_df['total'] = data_bank_full['loan'].value_counts()\n",
    "l_df['yes'] = data_bank_full[data_bank_full['deposit'] == 'yes']['loan'].value_counts()\n",
    "\n",
    "#Tính tỷ lệ đồng ý mở trên tổng số \n",
    "l_df['effective(%)'] = np.round((l_df['yes']/l_df['total'])*100,2)\n",
    "\n",
    "l_df"
   ]
  },
  {
   "cell_type": "markdown",
   "id": "a4270705",
   "metadata": {},
   "source": [
    "<img src='Pic/insight.png' width='200px' align='left'>\n",
    "\n",
    "**TỪ DỮ LIỆU TA THẤY:**\n",
    "\n",
    "Khách hàng đang có khoản vay có tỷ lệ tiếp thị thành công là 6.68% chỉ bằng một nửa so với tỷ lệ tiếp thị thành công của nhóm khách hàng không có khoản vay nào (12.66%); Như vậy việc một khách hàng có hay không có khoản vay ảnh hưởng lớn tới hiệu quả của chiến dịch tiêp thị."
   ]
  },
  {
   "cell_type": "code",
   "execution_count": null,
   "id": "d97042ce",
   "metadata": {},
   "outputs": [],
   "source": []
  },
  {
   "cell_type": "code",
   "execution_count": null,
   "id": "a6464760",
   "metadata": {},
   "outputs": [],
   "source": []
  },
  {
   "cell_type": "markdown",
   "id": "b6c80959",
   "metadata": {},
   "source": [
    "### 4.7 Đánh giá Loại hình liên lạc (contact) tới kết quả của chiến dịch\n",
    "---"
   ]
  },
  {
   "cell_type": "code",
   "execution_count": null,
   "id": "d7b9cf82",
   "metadata": {},
   "outputs": [],
   "source": [
    "#Loại hình liên lạc ảnh hưởng tới việc mở sổ \n",
    "c_df = pd.DataFrame()\n",
    "\n",
    "c_df['total'] = data_bank_full['contact'].value_counts()\n",
    "c_df['yes'] = data_bank_full[data_bank_full['deposit'] == 'yes']['contact'].value_counts()\n",
    "\n",
    "#Tính tỷ lệ đồng ý mở trên tổng số \n",
    "c_df['effective(%)'] = np.round((c_df['yes']/c_df['total'])*100,2)\n",
    "\n",
    "c_df"
   ]
  },
  {
   "cell_type": "code",
   "execution_count": null,
   "id": "c080ba68",
   "metadata": {},
   "outputs": [],
   "source": [
    "#Trực quan hóa trên cùng một biểu đồ:\n",
    "fig, ax1 = plt.subplots(figsize=(10,5))\n",
    "x = list(map(str,c_df.index))\n",
    "y_total = c_df['total'].values.ravel()\n",
    "y_eff = c_df['effective(%)'].values.ravel()\n",
    "\n",
    "ax2 = ax1.twinx()\n",
    "ax1.bar(x, y_total)\n",
    "ax2.plot(x, y_eff, 'r--^',ms=15)\n",
    "\n",
    "\n",
    "ax1.set_title('BIỂU ĐỒ THỂ HIỆN SỐ LƯỢNG KHÁCH HÀNG MARKETING VÀ TỶ LỆ ĐỒNG Ý MỞ SỔ THEO TÌNH LOẠI HÌNH LIÊN LẠC',\n",
    "             fontdict={'fontname':'Tahoma','fontweight':'bold','fontsize':12})\n",
    "ax1.set_ylabel('Tổng số khách hàng', color='k')\n",
    "ax2.set_ylabel('Tỷ lệ đồng ý mở sổ (%)', color='r')\n",
    "ax2.set_ylim(0,18)\n",
    "\n",
    "\n",
    "ax1.grid(True,ls='--')\n",
    "fig.show()"
   ]
  },
  {
   "cell_type": "markdown",
   "id": "207a5bc3",
   "metadata": {},
   "source": [
    "<img src='Pic/insight.png' width='200px' align='left'>\n",
    "\n",
    "**TỪ DỮ LIỆU TA THẤY:**\n",
    "\n",
    "Phương thức liên lạc tiếp thị thông qua Điện thoại đi động và cố định cho thấy hiệu quả tiếp thị tốt hơn nhiều với tỷ lệ đồng ý lần lượt là 14.92% và 13.42% trong khi phương thức liên lạc tiếp thị khác chỉ đạt 4.07%"
   ]
  },
  {
   "cell_type": "code",
   "execution_count": null,
   "id": "f9ad3ac2",
   "metadata": {},
   "outputs": [],
   "source": []
  },
  {
   "cell_type": "markdown",
   "id": "a86eab87",
   "metadata": {},
   "source": [
    "### 4.8 Số lần liên lạc tiếp thị tới khách hàng\n",
    "---\n",
    "Số lần tiếp thị tới khách hàng nằm trong khoảng từ 1-14 lần"
   ]
  },
  {
   "cell_type": "code",
   "execution_count": null,
   "id": "4378d560",
   "metadata": {},
   "outputs": [],
   "source": [
    "#Thông kê số lượng theo số lần liên lạc tư vấn:\n",
    "data_bank_full['campaign'].value_counts()\n",
    "#--> Đại đa Số khách hàng có số lần liên lạc <10; \n"
   ]
  },
  {
   "cell_type": "code",
   "execution_count": null,
   "id": "9bd8ef7a",
   "metadata": {},
   "outputs": [],
   "source": [
    "#Số lần liên lạc tiếp thị khách hàng ảnh hưởng tới việc mở sổ \n",
    "ca_df = pd.DataFrame()\n",
    "\n",
    "ca_df['total'] = data_bank_full['campaign'].value_counts()\n",
    "ca_df['yes'] = data_bank_full[data_bank_full['deposit'] == 'yes']['campaign'].value_counts()\n",
    "\n",
    "#Tính tỷ lệ đồng ý mở trên tổng số \n",
    "ca_df['effective(%)'] = np.round((ca_df['yes']/ca_df['total'])*100,2)\n",
    "ca_df"
   ]
  },
  {
   "cell_type": "code",
   "execution_count": null,
   "id": "d725d335",
   "metadata": {},
   "outputs": [],
   "source": [
    "#Trực quan hóa trên cùng một biểu đồ:\n",
    "fig, ax1 = plt.subplots(figsize=(14,5))\n",
    "x = list(map(str,ca_df.index))\n",
    "y_total = ca_df['total'].values.ravel()\n",
    "y_eff = ca_df['effective(%)'].values.ravel()\n",
    "\n",
    "ax2 = ax1.twinx()\n",
    "ax1.bar(x, y_total)\n",
    "ax2.plot(x, y_eff, 'r--^',ms=15)\n",
    "\n",
    "\n",
    "ax1.set_title('BIỂU ĐỒ THỂ HIỆN SỐ LƯỢNG KHÁCH HÀNG MARKETING VÀ TỶ LỆ ĐỒNG Ý MỞ SỔ THEO SỐ LẦN LIÊN LẠC',\n",
    "             fontdict={'fontname':'Tahoma','fontweight':'bold','fontsize':12})\n",
    "ax1.set_ylabel('Tổng số khách hàng', color='k')\n",
    "ax2.set_ylabel('Tỷ lệ đồng ý mở sổ (%)', color='r')\n",
    "\n",
    "plt.xticks(rotation=90)\n",
    "ax1.grid(True,ls='--')\n",
    "fig.show()"
   ]
  },
  {
   "cell_type": "markdown",
   "id": "c1826a0f",
   "metadata": {},
   "source": [
    "<img src='Pic/insight.png' width='200px' align='left'>\n",
    "\n",
    "**TỪ DỮ LIỆU TA THẤY:**\n",
    "\n",
    "1. Số lần liên lạc cũng ảnh hưởng đến hiệu quả của chiến dịch.\n",
    "2. Nhân viên liên lạc thực hiện marketing tới khách hàng từ 1 lần tới 14 lần. \n",
    "3. Tỷ lệ mở sổ cao nhất có số lần liên lạc là 1, 2, 3; Càng liên lạc nhiều tỷ lệ thất bại càng cao."
   ]
  },
  {
   "cell_type": "code",
   "execution_count": null,
   "id": "a2079a58",
   "metadata": {},
   "outputs": [],
   "source": []
  },
  {
   "cell_type": "markdown",
   "id": "4878e04e",
   "metadata": {},
   "source": [
    "### 4.9 Thời gian tiếp thị trong năm ảnh hưởng tới hiệu quả của chiến dịch marketing\n",
    "---\n",
    "Chiến dịch marketing này được thực hiện trong suốt 12 tháng trong năm 2012."
   ]
  },
  {
   "cell_type": "code",
   "execution_count": null,
   "id": "0d33ea2f",
   "metadata": {},
   "outputs": [],
   "source": [
    "#Thống kê số lượng tiếp thị theo tháng:\n",
    "data_bank_full['month'].value_counts()"
   ]
  },
  {
   "cell_type": "code",
   "execution_count": null,
   "id": "0cf72777",
   "metadata": {},
   "outputs": [],
   "source": [
    "#Thời gian tiếp thị khách hàng ảnh hưởng tới việc mở sổ \n",
    "from datetime import datetime\n",
    "mo_df = pd.DataFrame()\n",
    "\n",
    "mo_df['total'] = data_bank_full['month'].value_counts()\n",
    "mo_df['yes'] = data_bank_full[data_bank_full['deposit'] == 'yes']['month'].value_counts()\n",
    "\n",
    "#Tính tỷ lệ đồng ý mở trên tổng số \n",
    "mo_df['effective(%)'] = np.round((mo_df['yes']/mo_df['total'])*100,2)\n",
    "\n",
    "mo_df.reset_index(inplace=True)\n",
    "#mo_df['num'] = mo_df['month'].apply(lambda x: datetime.strptime(str(x),'%b').tm_mon)\n",
    "\n",
    "#mo_df.sort_values(by=['num'],inplace=True)\n",
    "mo_df"
   ]
  },
  {
   "cell_type": "code",
   "execution_count": null,
   "id": "a9be55c5",
   "metadata": {},
   "outputs": [],
   "source": [
    "#Trực quan hóa trên cùng một biểu đồ:\n",
    "fig, ax1 = plt.subplots(figsize=(14,5))\n",
    "x = list(map(str,mo_df.month))\n",
    "y_total = mo_df['total'].values.ravel()\n",
    "y_eff = mo_df['effective(%)'].values.ravel()\n",
    "\n",
    "ax2 = ax1.twinx()\n",
    "ax1.bar(x, y_total)\n",
    "ax2.plot(x, y_eff, 'r--^',ms=15)\n",
    "\n",
    "\n",
    "ax1.set_title('BIỂU ĐỒ THỂ HIỆN SỐ LƯỢNG KHÁCH HÀNG MARKETING VÀ TỶ LỆ ĐỒNG Ý MỞ SỔ THEO THÁNG',\n",
    "              fontdict={'fontname':'Tahoma','fontweight':'bold','fontsize':12})\n",
    "ax1.set_ylabel('Tổng số khách hàng thực hiện Marketing', color='k')\n",
    "ax2.set_ylabel('Tỷ lệ đồng ý mở sổ (%)', color='r')\n",
    "ax1.set_xlabel('Tháng triển khai chiến dịch')\n",
    "\n",
    "ax1.grid(True,ls='--')\n",
    "fig.show()"
   ]
  },
  {
   "cell_type": "markdown",
   "id": "e9cb698b",
   "metadata": {},
   "source": [
    "<img src='Pic/insight.png' width='300px' align='left'>\n",
    "\n",
    "**TỪ DỮ LIỆU TA THẤY:**\n",
    "\n",
    "1. chiến dịch Marketing được thực hiện trong suốt 12 tháng trong năm nhưng, quy mô và mức độ không đồng đều. \n",
    "2. Chiến dịch đẩy mạnh trong 4 tháng: 5, 6, 7, 8 trong đó mạnh nhất là tháng 5\n",
    "3. Thời gian thực hiện tiếp thị ảnh hưởng tới hiệu quả của chiến dịch; Hiệu quả cao nhất là tháng 3 sau đó là 12, 9, 10. \n",
    "4. Các tháng đẩy mạnh tiếp thị lại là những tháng có tỷ lệ thành công thấp nhất, hiệu quả không cao"
   ]
  },
  {
   "cell_type": "code",
   "execution_count": null,
   "id": "c4952b59",
   "metadata": {},
   "outputs": [],
   "source": []
  },
  {
   "cell_type": "markdown",
   "id": "3f4864d4",
   "metadata": {},
   "source": [
    "## TỔNG KẾT\n",
    "---\n",
    "<img src='pic/decision.jpg' width=500px>\n",
    "Từ các phân tích và đánh giá dựa trên dữ liệu của chiến dịch Marketing đã thực hiện, cho thấy việc thực hiện tiếp thị của ngân hàng cho toàn bộ khách hàng thuộc mọi đối tượng tuổi tác, ngành nghề, kéo dài trong suốt cả một năm...là không hiệu quả. \n",
    "\n",
    "Để cải thiện và nâng cao hiệu quả cho chiến dịch Marketing sắp tới ngân hàng nên lưu ý một số đề xuất như sau:\n",
    "\n",
    "<img src='Pic/insight.png' width='400px' align='left'>\n",
    "\n",
    "**ĐỀ XUẤT 1:** Thực hiện chiến dịch tiếp thị nên chia làm 2 đợt tập trung vào khoảng thời gian đầu năm và cuối năm, mỗi đợt 3 tháng: \n",
    "\n",
    "    * Đợt 1: Tháng 2, 3, 4\n",
    "    * Đợt 2: Tháng 9, 10, 12\n",
    "\n",
    "**ĐỀ XUẤT 2:** Tập trung tiếp thị với Khách hàng trẻ (<30 tuổi) và già (>=60 tuổi)\n",
    "\n",
    "**ĐỀ XUẤT 3:** 4 Nhóm ngành nghề của khách hàng ưu tiên lựa chọn cho việc marketing: student (sinh viên); retired (nghỉ hưu); unemployed (thất nghiệp); management (quản lý)\n",
    "\n",
    "**ĐỀ XUẤT 4:** Tập trung vào các khách hàng có số dư tài khoản từ 1000 euro trở lên và không có khoản vay cá nhân nào\n",
    "\n",
    "**ĐỀ XUẤT 5:** Nên sử dụng phương thức liên lạc thông qua điện thoại di động và cố định\n",
    "\n",
    "**ĐỀ XUẤT 6:** Chỉ nên liên lạc marketing tối đa 3 lần với mỗi một khách hàng."
   ]
  },
  {
   "cell_type": "markdown",
   "id": "f9dd8dbd",
   "metadata": {},
   "source": [
    "<img src='Pic/action.jpg' width=600px>"
   ]
  },
  {
   "cell_type": "code",
   "execution_count": null,
   "id": "4aa57d5f",
   "metadata": {},
   "outputs": [],
   "source": []
  }
 ],
 "metadata": {
  "kernelspec": {
   "display_name": "Python 3 (ipykernel)",
   "language": "python",
   "name": "python3"
  },
  "language_info": {
   "codemirror_mode": {
    "name": "ipython",
    "version": 3
   },
   "file_extension": ".py",
   "mimetype": "text/x-python",
   "name": "python",
   "nbconvert_exporter": "python",
   "pygments_lexer": "ipython3",
   "version": "3.11.5"
  }
 },
 "nbformat": 4,
 "nbformat_minor": 5
}
